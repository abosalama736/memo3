{
  "nbformat": 4,
  "nbformat_minor": 0,
  "metadata": {
    "colab": {
      "provenance": []
    },
    "kernelspec": {
      "name": "python3",
      "display_name": "Python 3"
    },
    "language_info": {
      "name": "python"
    }
  },
  "cells": [
    {
      "cell_type": "code",
      "execution_count": null,
      "metadata": {
        "id": "vs_SU3ng0tbN"
      },
      "outputs": [],
      "source": []
    },
    {
      "cell_type": "markdown",
      "source": [
        "\n",
        "# **WAP to enter a number from user and print its absolute value.**"
      ],
      "metadata": {
        "id": "MnWAiH2o0zSa"
      }
    },
    {
      "cell_type": "code",
      "source": [
        "num=int(input(\"enter the number:\"))\n",
        "print(abs(num))\n",
        "\n"
      ],
      "metadata": {
        "id": "l3oLMLbk02Pj",
        "colab": {
          "base_uri": "https://localhost:8080/"
        },
        "outputId": "a6344768-ffd3-4e8f-b6fc-73f8c4203404"
      },
      "execution_count": 2,
      "outputs": [
        {
          "output_type": "stream",
          "name": "stdout",
          "text": [
            "enter the number:-5\n",
            "5\n"
          ]
        }
      ]
    },
    {
      "cell_type": "markdown",
      "source": [
        "# **WAP to enter a year from user and check if it is leap year or not.**"
      ],
      "metadata": {
        "id": "pOnjNwNx03Tr"
      }
    },
    {
      "cell_type": "code",
      "source": [
        "year=int(input(\"enter the year:\"))\n",
        "if(year%4==0 and year % 100 !=0)or(year%400==0):\n",
        "  print(\"leap year\")\n",
        "else:\n",
        "  print(\"not a leap year\")"
      ],
      "metadata": {
        "id": "4PEtUTm51H6x",
        "colab": {
          "base_uri": "https://localhost:8080/"
        },
        "outputId": "1718f0b5-319a-4cec-8bb8-5cf1be914507"
      },
      "execution_count": 7,
      "outputs": [
        {
          "output_type": "stream",
          "name": "stdout",
          "text": [
            "enter the year:2000\n",
            "leap year\n"
          ]
        }
      ]
    },
    {
      "cell_type": "markdown",
      "source": [
        "# **WAP to enter the age of 3 person and print oldest and yougest among them.**"
      ],
      "metadata": {
        "id": "sn-NADUn1VGn"
      }
    },
    {
      "cell_type": "code",
      "source": [
        "age1=int(input(\"enter the age1:\"))\n",
        "age2=int(input(\"enter the age2:\"))\n",
        "age3=int(input(\"enter the age3:\"))\n",
        "if(age1>age2 and age1>age3):\n",
        "  print(\"age1 is oldest\")\n",
        "elif(age2>age1 and age2>age3):\n",
        "  print(\"age2 is oldest\")\n",
        "else:\n",
        "  print(\"age3 is oldest\")\n",
        "  if(age1<age2 and age1<age3):\n",
        "    print(\"age1 is youngest\")\n",
        "  elif(age2<age1 and age2<age3):\n",
        "    print(\"age2 is youngest\")\n",
        "  else:\n",
        "    print(\"age3 is youngest\")"
      ],
      "metadata": {
        "id": "uNGWS1AT1cYP",
        "colab": {
          "base_uri": "https://localhost:8080/"
        },
        "outputId": "35235576-9441-4dce-a185-02900a893a90"
      },
      "execution_count": 12,
      "outputs": [
        {
          "output_type": "stream",
          "name": "stdout",
          "text": [
            "enter the age1:20\n",
            "enter the age2:40\n",
            "enter the age3:60\n",
            "age3 is oldest\n",
            "age1 is youngest\n"
          ]
        }
      ]
    },
    {
      "cell_type": "markdown",
      "source": [
        "# **Write a program that asks the user to enter a series of numbers. The program should ask for numbers until the user enters a negative number. Once the user enters a negative number, the program should stop and print the sum of all the positive numbers entered**\n",
        "# **Example**\n",
        "# **Enter a number: 5**\n",
        "# **Enter a number: 8**\n",
        "# **Enter a number: 12**\n",
        "# **Enter a number: -2**\n",
        "# **The sum of the positive numbers is 25.**"
      ],
      "metadata": {
        "id": "XFRRNGVj1dEw"
      }
    },
    {
      "cell_type": "code",
      "source": [
        "num=int(input(\"enter the number:\"))\n",
        "sum=0\n",
        "while(num>=0):\n",
        "  sum=sum+num\n",
        "  num=int(input(\"enter the number:\"))\n",
        "print(sum)"
      ],
      "metadata": {
        "id": "ijp9SzHu2A3p",
        "colab": {
          "base_uri": "https://localhost:8080/"
        },
        "outputId": "837045de-f494-49ec-e4a3-7807ddd03cb9"
      },
      "execution_count": 9,
      "outputs": [
        {
          "output_type": "stream",
          "name": "stdout",
          "text": [
            "enter the number:5\n",
            "enter the number:8\n",
            "enter the number:12\n",
            "enter the number:-2\n",
            "25\n"
          ]
        }
      ]
    },
    {
      "cell_type": "markdown",
      "source": [
        "# **Write a program that asks the user to enter their name and age. The program should check if the user's age is greater than or equal to 18. If it is, the program should print a message saying they are eligible to vote. Otherwise, the program should print a message saying they are not eligible to vote due to being underage.**"
      ],
      "metadata": {
        "id": "oODCHUj62DxA"
      }
    },
    {
      "cell_type": "code",
      "source": [
        "name=input(\"enter the name:\")\n",
        "age=int(input(\"enter the age:\"))\n",
        "if(age>=18):\n",
        "  print(\"eligible to vote\")\n",
        "else:\n",
        "  print(\"not eligible to vote\")"
      ],
      "metadata": {
        "id": "Svls1cLA2JVA",
        "colab": {
          "base_uri": "https://localhost:8080/"
        },
        "outputId": "30974ff5-5d92-4b6c-ad17-823850e8c3f9"
      },
      "execution_count": 13,
      "outputs": [
        {
          "output_type": "stream",
          "name": "stdout",
          "text": [
            "enter the name:memo\n",
            "enter the age:20\n",
            "eligible to vote\n"
          ]
        }
      ]
    },
    {
      "cell_type": "markdown",
      "source": [
        "# **Write a Python Program to Find the Factorial of a Number**"
      ],
      "metadata": {
        "id": "2y5o5SqL3nvL"
      }
    },
    {
      "cell_type": "code",
      "source": [
        "num=int(input(\"enter the number:\"))\n",
        "for i in range(1,num+1):\n",
        "  if(num%i==0):\n",
        "    print(i)"
      ],
      "metadata": {
        "id": "Q_v3ns1D3tgy",
        "colab": {
          "base_uri": "https://localhost:8080/"
        },
        "outputId": "1cf3d45f-b3c2-4b09-877d-7fdfd4ea257a"
      },
      "execution_count": 8,
      "outputs": [
        {
          "output_type": "stream",
          "name": "stdout",
          "text": [
            "enter the number:2\n",
            "1\n",
            "2\n"
          ]
        }
      ]
    }
  ]
}